{
 "cells": [
  {
   "cell_type": "markdown",
   "metadata": {
    "extensions": {
     "jupyter_dashboards": {
      "version": 1,
      "views": {
       "grid_default": {
        "col": 0,
        "height": 4,
        "hidden": false,
        "row": 0,
        "width": null
       },
       "report_default": {
        "hidden": false
       }
      }
     }
    }
   },
   "source": [
    "## import data"
   ]
  },
  {
   "cell_type": "code",
   "execution_count": 146,
   "metadata": {
    "extensions": {
     "jupyter_dashboards": {
      "version": 1,
      "views": {
       "grid_default": {
        "col": 0,
        "height": 4,
        "hidden": false,
        "row": 4,
        "width": 12
       },
       "report_default": {
        "hidden": false
       }
      }
     }
    },
    "scrolled": true
   },
   "outputs": [
    {
     "name": "stdout",
     "output_type": "stream",
     "text": [
      "Extracting MNIST_data/train-images-idx3-ubyte.gz\n",
      "Extracting MNIST_data/train-labels-idx1-ubyte.gz\n",
      "Extracting MNIST_data/t10k-images-idx3-ubyte.gz\n",
      "Extracting MNIST_data/t10k-labels-idx1-ubyte.gz\n"
     ]
    }
   ],
   "source": [
    "from tensorflow.examples.tutorials.mnist import input_data\n",
    "mnist = input_data.read_data_sets('MNIST_data', one_hot=True)"
   ]
  },
  {
   "cell_type": "markdown",
   "metadata": {
    "extensions": {
     "jupyter_dashboards": {
      "version": 1,
      "views": {
       "grid_default": {
        "col": 0,
        "height": 9,
        "hidden": true,
        "row": 4,
        "width": 12
       },
       "report_default": {
        "hidden": true
       }
      }
     }
    }
   },
   "source": [
    "Here mnist is a lightweight class which stores the training, validation, and testing sets as NumPy arrays. It also provides a function for iterating through data minibatches, which we will use below.\n",
    "\n",
    "## Start TensorFlow InteractiveSession\n",
    "\n",
    "Tensorflow relies on a highly efficient C++ backend to do its computation. The connection to this backend is called a session. The common usage for TensorFlow programs is to first create a graph and then launch it in a session.\n",
    "\n",
    "Here we instead use the convenient ```InteractiveSession``` class, which makes TensorFlow more flexible about how you structure your code. It allows you to interleave operations which build a [computation graph](http://www.tensorflow.org/get_started/basic_usage.html#the-computation-graph) with ones that run the graph. This is particularly convenient when working in interactive contexts like iPython. If you are not using an ```InteractiveSession```, then you should build the entire computation graph before starting a session and [launching the graph](http://www.tensorflow.org/get_started/basic_usage.html#launching-the-graph-in-a-session)."
   ]
  },
  {
   "cell_type": "code",
   "execution_count": 147,
   "metadata": {
    "collapsed": true,
    "extensions": {
     "jupyter_dashboards": {
      "version": 1,
      "views": {
       "grid_default": {
        "hidden": true
       },
       "report_default": {
        "hidden": true
       }
      }
     }
    }
   },
   "outputs": [],
   "source": [
    "import tensorflow as tf\n",
    "sess = tf.InteractiveSession()"
   ]
  },
  {
   "cell_type": "markdown",
   "metadata": {
    "extensions": {
     "jupyter_dashboards": {
      "version": 1,
      "views": {
       "grid_default": {
        "col": 0,
        "height": 15,
        "hidden": true,
        "row": 4,
        "width": 12
       },
       "report_default": {
        "hidden": true
       }
      }
     }
    }
   },
   "source": [
    "### Computation Graph\n",
    "\n",
    "To do efficient numerical computing in Python, we typically use libraries like NumPy that do expensive operations such as matrix multiplication outside Python, using highly efficient code implemented in another language. Unfortunately, there can still be a lot of overhead from switching back to Python every operation. This overhead is especially bad if you want to run computations on GPUs or in a distributed manner, where there can be a high cost to transferring data.\n",
    "\n",
    "TensorFlow also does its heavy lifting outside Python, but it takes things a step further to avoid this overhead. Instead of running a single expensive operation independently from Python, TensorFlow lets us describe a graph of interacting operations that run entirely outside Python. This approach is similar to that used in Theano or Torch.\n",
    "\n",
    "The role of the Python code is therefore to build this external computation graph, and to dictate which parts of the computation graph should be run. See the [Computation Graph](http://www.tensorflow.org/get_started/basic_usage.html#the-computation-graph) section of [Basic Usage](http://www.tensorflow.org/get_started/basic_usage.html) for more detail.\n",
    "\n",
    "## Build a Softmax Regression Model\n",
    "\n",
    "In this section we will build a softmax regression model with a single linear layer. In the next section, we will extend this to the case of softmax regression with a multilayer convolutional network.\n",
    "\n",
    "## Placeholders\n",
    "\n",
    "We start building the computation graph by creating nodes for the input images and target output classes."
   ]
  },
  {
   "cell_type": "code",
   "execution_count": 148,
   "metadata": {
    "collapsed": true,
    "extensions": {
     "jupyter_dashboards": {
      "version": 1,
      "views": {
       "grid_default": {
        "col": 0,
        "height": 4,
        "hidden": true,
        "row": 8,
        "width": 12
       },
       "report_default": {
        "hidden": true
       }
      }
     }
    }
   },
   "outputs": [],
   "source": [
    "x = tf.placeholder(\"float\", shape=[None, 784])\n",
    "y_ = tf.placeholder(\"float\", shape=[None, 10])"
   ]
  },
  {
   "cell_type": "markdown",
   "metadata": {
    "extensions": {
     "jupyter_dashboards": {
      "version": 1,
      "views": {
       "grid_default": {
        "col": 0,
        "height": 9,
        "hidden": true,
        "row": 4,
        "width": null
       },
       "report_default": {
        "hidden": true
       }
      }
     }
    }
   },
   "source": [
    "Here $x$ and $y\\_$ aren't specific values. Rather, they are each a ```placeholder``` -- a value that we'll input when we ask TensorFlow to run a computation.\n",
    "\n",
    "The input images $x$ will consist of a 2d tensor of floating point numbers. Here we assign it a ```shape``` of ```[None, 784]```, where 784 is the dimensionality of a single flattened MNIST image, and ```None``` indicates that the first dimension, corresponding to the batch size, can be of any size. The target output classes $y\\_$ will also consist of a 2d tensor, where each row is a one-hot 10-dimensional vector indicating which digit class the corresponding MNIST image belongs to.\n",
    "\n",
    "The ```shape``` argument to ```placeholder``` is optional, but it allows TensorFlow to automatically catch bugs stemming from inconsistent tensor shapes.\n",
    "\n",
    "Variables\n",
    "\n",
    "We now define the weights $W$ and biases $b$ for our model. We could imagine treating these like additional inputs, but TensorFlow has an even better way to handle them: ```Variable```. A ```Variable``` is a value that lives in TensorFlow's computation graph. It can be used and even modified by the computation. In machine learning applications, one generally has the model paramaters be ```Variable```s."
   ]
  },
  {
   "cell_type": "code",
   "execution_count": 149,
   "metadata": {
    "collapsed": true,
    "extensions": {
     "jupyter_dashboards": {
      "version": 1,
      "views": {
       "grid_default": {
        "hidden": true
       },
       "report_default": {
        "hidden": true
       }
      }
     }
    }
   },
   "outputs": [],
   "source": [
    "def weight_variable(shape):\n",
    "  initial = tf.truncated_normal(shape, stddev=0.1)\n",
    "  return tf.Variable(initial)\n",
    "\n",
    "def bias_variable(shape):\n",
    "  initial = tf.constant(0.1, shape=shape)\n",
    "  return tf.Variable(initial)"
   ]
  },
  {
   "cell_type": "code",
   "execution_count": 150,
   "metadata": {
    "collapsed": true,
    "extensions": {
     "jupyter_dashboards": {
      "version": 1,
      "views": {
       "grid_default": {
        "hidden": true
       },
       "report_default": {
        "hidden": true
       }
      }
     }
    }
   },
   "outputs": [],
   "source": [
    "def conv2d(x, W):\n",
    "  return tf.nn.conv2d(x, W, strides=[1, 1, 1, 1], padding='SAME')\n",
    "\n",
    "def max_pool_2x2(x):\n",
    "  return tf.nn.max_pool(x, ksize=[1, 2, 2, 1],\n",
    "                        strides=[1, 2, 2, 1], padding='SAME')"
   ]
  },
  {
   "cell_type": "markdown",
   "metadata": {
    "extensions": {
     "jupyter_dashboards": {
      "version": 1,
      "views": {
       "grid_default": {
        "col": 4,
        "height": 4,
        "hidden": true,
        "row": 0,
        "width": null
       },
       "report_default": {
        "hidden": true
       }
      }
     }
    }
   },
   "source": [
    "We pass the initial value for each parameter in the call to ```tf.Variable```. In this case, we initialize both $W$ and $b$ as tensors full of zeros. $W$ is a 784x10 matrix (because we have 784 input features and 10 outputs) and $b$ is a 10-dimensional vector (because we have 10 classes).\n",
    "\n",
    "Before ```Variables``` can be used within a session, they must be initialized using that session. This step takes the initial values (in this case tensors full of zeros) that have already been specified, and assigns them to each ```Variable```. This can be done for all ```Variables``` at once."
   ]
  },
  {
   "cell_type": "code",
   "execution_count": 151,
   "metadata": {
    "extensions": {
     "jupyter_dashboards": {
      "version": 1,
      "views": {
       "grid_default": {
        "col": 0,
        "height": 4,
        "hidden": false,
        "row": 8,
        "width": 12
       },
       "report_default": {
        "hidden": true
       }
      }
     }
    }
   },
   "outputs": [],
   "source": [
    "W_fc1 = weight_variable([784, 100])\n",
    "b_fc1 = bias_variable([100])\n",
    "\n",
    "h_fc1 = tf.nn.relu(tf.matmul(x, W_fc1) + b_fc1)\n",
    "\n",
    "W_fc2 = weight_variable([100, 30])\n",
    "b_fc2 = bias_variable([30])\n",
    "\n",
    "h_fc2 = tf.matmul(h_fc1, W_fc2) + b_fc2\n",
    "\n",
    "W_fc3 = weight_variable([30, 10])\n",
    "b_fc3 = bias_variable([10])\n",
    "\n",
    "h_fc3 = tf.matmul(h_fc2, W_fc3) + b_fc3\n",
    "    "
   ]
  },
  {
   "cell_type": "markdown",
   "metadata": {
    "extensions": {
     "jupyter_dashboards": {
      "version": 1,
      "views": {
       "grid_default": {
        "col": 0,
        "height": 4,
        "hidden": true,
        "row": 0,
        "width": null
       },
       "report_default": {
        "hidden": true
       }
      }
     }
    }
   },
   "source": [
    "## Predicted Class and Cost Function\n",
    "\n",
    "We can now implement our regression model. It only takes one line! We multiply the vectorized input images $x$ by the weight matrix $W$, add the bias $b$, and compute the softmax probabilities that are assigned to each class."
   ]
  },
  {
   "cell_type": "code",
   "execution_count": 152,
   "metadata": {
    "collapsed": true,
    "extensions": {
     "jupyter_dashboards": {
      "version": 1,
      "views": {
       "grid_default": {
        "hidden": true
       },
       "report_default": {
        "hidden": true
       }
      }
     }
    }
   },
   "outputs": [],
   "source": [
    "y = tf.nn.softmax(h_fc3)"
   ]
  },
  {
   "cell_type": "markdown",
   "metadata": {
    "extensions": {
     "jupyter_dashboards": {
      "version": 1,
      "views": {
       "grid_default": {
        "col": 0,
        "height": 4,
        "hidden": true,
        "row": 0,
        "width": 4
       },
       "report_default": {
        "hidden": true
       }
      }
     }
    }
   },
   "source": [
    "The cost function to be minimized during training can be specified just as easily. Our cost function will be the cross-entropy between the target and the model's prediction."
   ]
  },
  {
   "cell_type": "markdown",
   "metadata": {
    "extensions": {
     "jupyter_dashboards": {
      "version": 1,
      "views": {
       "grid_default": {
        "col": 0,
        "height": 5,
        "hidden": true,
        "row": 0,
        "width": 12
       },
       "report_default": {
        "hidden": true
       }
      }
     }
    }
   },
   "source": [
    "## Train and Evaluate the Model\n",
    "\n",
    "How well does this model do? To train and evaluate it we will use code that is nearly identical to that for the simple one layer SoftMax network above. The differences are that: we will replace the steepest gradient descent optimizer with the more sophisticated ADAM optimizer; we will include the additional parameter ```keep_prob``` in ```feed_dict``` to control the dropout rate; and we will add logging to every 100th iteration in the training process."
   ]
  },
  {
   "cell_type": "code",
   "execution_count": 153,
   "metadata": {
    "scrolled": true
   },
   "outputs": [],
   "source": [
    "cross_entropy = -tf.reduce_sum(y_*tf.log(y))\n",
    "train_step = tf.train.AdamOptimizer(1e-4).minimize(cross_entropy)\n",
    "correct_prediction = tf.equal(tf.argmax(y,1), tf.argmax(y_,1))\n",
    "accuracy = tf.reduce_mean(tf.cast(correct_prediction, \"float\"))"
   ]
  },
  {
   "cell_type": "code",
   "execution_count": 98,
   "metadata": {},
   "outputs": [
    {
     "name": "stdout",
     "output_type": "stream",
     "text": [
      "Saving graph to: /var/folders/99/7j5v1c952h526sdx1plcnz2r0000gn/T/tmpk058qj2r\n"
     ]
    }
   ],
   "source": [
    "#graph_location = tempfile.mkdtemp()\n",
    "#print('Saving graph to: %s' % graph_location)\n",
    "#train_writer = tf.summary.FileWriter(graph_location)\n",
    "#train_writer.add_graph(tf.get_default_graph())"
   ]
  },
  {
   "cell_type": "code",
   "execution_count": 154,
   "metadata": {
    "extensions": {
     "jupyter_dashboards": {
      "version": 1,
      "views": {
       "grid_default": {
        "col": 0,
        "height": 13,
        "hidden": false,
        "row": 12,
        "width": 12
       },
       "report_default": {
        "hidden": false
       }
      }
     }
    }
   },
   "outputs": [
    {
     "name": "stdout",
     "output_type": "stream",
     "text": [
      "step 0, training accuracy 0.1\n",
      "step 100, training accuracy 0.46\n",
      "step 200, training accuracy 0.66\n",
      "step 300, training accuracy 0.76\n",
      "step 400, training accuracy 0.94\n",
      "step 500, training accuracy 0.88\n",
      "step 600, training accuracy 0.92\n",
      "step 700, training accuracy 0.9\n",
      "step 800, training accuracy 0.86\n",
      "step 900, training accuracy 0.86\n",
      "step 1000, training accuracy 0.86\n",
      "step 1100, training accuracy 0.88\n",
      "step 1200, training accuracy 0.84\n",
      "step 1300, training accuracy 0.88\n",
      "step 1400, training accuracy 0.92\n",
      "step 1500, training accuracy 0.9\n",
      "step 1600, training accuracy 0.88\n",
      "step 1700, training accuracy 0.9\n",
      "step 1800, training accuracy 0.84\n",
      "step 1900, training accuracy 0.9\n",
      "step 2000, training accuracy 0.88\n",
      "step 2100, training accuracy 0.94\n",
      "step 2200, training accuracy 0.9\n",
      "step 2300, training accuracy 0.94\n",
      "step 2400, training accuracy 0.92\n",
      "step 2500, training accuracy 0.96\n",
      "step 2600, training accuracy 0.96\n",
      "step 2700, training accuracy 0.96\n",
      "step 2800, training accuracy 0.88\n",
      "step 2900, training accuracy 0.86\n",
      "step 3000, training accuracy 0.94\n",
      "step 3100, training accuracy 0.9\n",
      "step 3200, training accuracy 0.9\n",
      "step 3300, training accuracy 0.96\n",
      "step 3400, training accuracy 0.92\n",
      "step 3500, training accuracy 0.94\n",
      "step 3600, training accuracy 0.94\n",
      "step 3700, training accuracy 0.98\n",
      "step 3800, training accuracy 0.96\n",
      "step 3900, training accuracy 0.94\n",
      "step 4000, training accuracy 0.9\n",
      "step 4100, training accuracy 0.88\n",
      "step 4200, training accuracy 0.9\n",
      "step 4300, training accuracy 0.88\n",
      "step 4400, training accuracy 0.94\n",
      "step 4500, training accuracy 1\n",
      "step 4600, training accuracy 1\n",
      "step 4700, training accuracy 0.96\n",
      "step 4800, training accuracy 0.94\n",
      "step 4900, training accuracy 0.92\n",
      "step 5000, training accuracy 0.88\n",
      "step 5100, training accuracy 0.96\n",
      "step 5200, training accuracy 0.92\n",
      "step 5300, training accuracy 0.96\n",
      "step 5400, training accuracy 0.9\n",
      "step 5500, training accuracy 0.94\n",
      "step 5600, training accuracy 0.94\n",
      "step 5700, training accuracy 0.9\n",
      "step 5800, training accuracy 0.86\n",
      "step 5900, training accuracy 0.96\n",
      "step 6000, training accuracy 0.96\n",
      "step 6100, training accuracy 0.96\n",
      "step 6200, training accuracy 0.96\n",
      "step 6300, training accuracy 0.96\n",
      "step 6400, training accuracy 0.96\n",
      "step 6500, training accuracy 0.92\n",
      "step 6600, training accuracy 0.98\n",
      "step 6700, training accuracy 0.92\n",
      "step 6800, training accuracy 0.98\n",
      "step 6900, training accuracy 0.9\n",
      "step 7000, training accuracy 0.98\n",
      "step 7100, training accuracy 0.96\n",
      "step 7200, training accuracy 1\n",
      "step 7300, training accuracy 0.96\n",
      "step 7400, training accuracy 0.9\n",
      "step 7500, training accuracy 0.98\n",
      "step 7600, training accuracy 0.94\n",
      "step 7700, training accuracy 0.98\n",
      "step 7800, training accuracy 0.94\n",
      "step 7900, training accuracy 1\n",
      "step 8000, training accuracy 0.98\n",
      "step 8100, training accuracy 0.96\n",
      "step 8200, training accuracy 0.96\n",
      "step 8300, training accuracy 0.94\n",
      "step 8400, training accuracy 0.94\n",
      "step 8500, training accuracy 0.9\n",
      "step 8600, training accuracy 0.98\n",
      "step 8700, training accuracy 0.94\n",
      "step 8800, training accuracy 0.96\n",
      "step 8900, training accuracy 0.94\n",
      "step 9000, training accuracy 0.96\n",
      "step 9100, training accuracy 0.96\n",
      "step 9200, training accuracy 0.96\n",
      "step 9300, training accuracy 0.94\n",
      "step 9400, training accuracy 0.96\n",
      "step 9500, training accuracy 1\n",
      "step 9600, training accuracy 0.96\n",
      "step 9700, training accuracy 0.96\n",
      "step 9800, training accuracy 1\n",
      "step 9900, training accuracy 0.96\n",
      "step 10000, training accuracy 0.96\n",
      "step 10100, training accuracy 0.98\n",
      "step 10200, training accuracy 0.98\n",
      "step 10300, training accuracy 0.94\n",
      "step 10400, training accuracy 1\n",
      "step 10500, training accuracy 0.96\n",
      "step 10600, training accuracy 0.94\n",
      "step 10700, training accuracy 0.98\n",
      "step 10800, training accuracy 0.92\n",
      "step 10900, training accuracy 0.92\n",
      "step 11000, training accuracy 0.94\n",
      "step 11100, training accuracy 0.96\n",
      "step 11200, training accuracy 0.98\n",
      "step 11300, training accuracy 0.96\n",
      "step 11400, training accuracy 0.96\n",
      "step 11500, training accuracy 0.94\n",
      "step 11600, training accuracy 0.96\n",
      "step 11700, training accuracy 0.94\n",
      "step 11800, training accuracy 0.96\n",
      "step 11900, training accuracy 1\n",
      "step 12000, training accuracy 0.94\n",
      "step 12100, training accuracy 0.98\n",
      "step 12200, training accuracy 0.98\n",
      "step 12300, training accuracy 0.98\n",
      "step 12400, training accuracy 1\n",
      "step 12500, training accuracy 0.96\n",
      "step 12600, training accuracy 0.94\n",
      "step 12700, training accuracy 0.98\n",
      "step 12800, training accuracy 0.96\n",
      "step 12900, training accuracy 0.96\n",
      "step 13000, training accuracy 0.98\n",
      "step 13100, training accuracy 0.96\n",
      "step 13200, training accuracy 0.98\n",
      "step 13300, training accuracy 0.94\n",
      "step 13400, training accuracy 0.96\n",
      "step 13500, training accuracy 1\n",
      "step 13600, training accuracy 0.92\n",
      "step 13700, training accuracy 0.98\n",
      "step 13800, training accuracy 0.94\n",
      "step 13900, training accuracy 0.96\n",
      "step 14000, training accuracy 0.98\n",
      "step 14100, training accuracy 0.98\n",
      "step 14200, training accuracy 0.98\n",
      "step 14300, training accuracy 1\n",
      "step 14400, training accuracy 0.96\n",
      "step 14500, training accuracy 0.94\n",
      "step 14600, training accuracy 0.96\n",
      "step 14700, training accuracy 0.9\n",
      "step 14800, training accuracy 0.96\n",
      "step 14900, training accuracy 0.96\n",
      "step 15000, training accuracy 1\n",
      "step 15100, training accuracy 0.96\n",
      "step 15200, training accuracy 0.98\n",
      "step 15300, training accuracy 0.96\n",
      "step 15400, training accuracy 0.96\n",
      "step 15500, training accuracy 0.96\n",
      "step 15600, training accuracy 0.98\n",
      "step 15700, training accuracy 0.98\n",
      "step 15800, training accuracy 0.92\n",
      "step 15900, training accuracy 0.98\n",
      "step 16000, training accuracy 1\n",
      "step 16100, training accuracy 0.92\n",
      "step 16200, training accuracy 0.96\n",
      "step 16300, training accuracy 0.96\n",
      "step 16400, training accuracy 1\n",
      "step 16500, training accuracy 0.98\n",
      "step 16600, training accuracy 0.94\n",
      "step 16700, training accuracy 0.98\n",
      "step 16800, training accuracy 0.96\n",
      "step 16900, training accuracy 0.96\n",
      "step 17000, training accuracy 0.96\n",
      "step 17100, training accuracy 0.98\n",
      "step 17200, training accuracy 0.94\n",
      "step 17300, training accuracy 0.96\n",
      "step 17400, training accuracy 0.94\n",
      "step 17500, training accuracy 0.98\n",
      "step 17600, training accuracy 1\n",
      "step 17700, training accuracy 0.92\n",
      "step 17800, training accuracy 0.96\n",
      "step 17900, training accuracy 0.96\n",
      "step 18000, training accuracy 0.98\n",
      "step 18100, training accuracy 1\n",
      "step 18200, training accuracy 0.92\n",
      "step 18300, training accuracy 0.98\n",
      "step 18400, training accuracy 1\n",
      "step 18500, training accuracy 0.98\n",
      "step 18600, training accuracy 0.94\n",
      "step 18700, training accuracy 1\n",
      "step 18800, training accuracy 1\n",
      "step 18900, training accuracy 0.98\n",
      "step 19000, training accuracy 1\n",
      "step 19100, training accuracy 0.96\n",
      "step 19200, training accuracy 0.98\n",
      "step 19300, training accuracy 0.98\n",
      "step 19400, training accuracy 1\n",
      "step 19500, training accuracy 0.98\n",
      "step 19600, training accuracy 0.98\n",
      "step 19700, training accuracy 0.98\n",
      "step 19800, training accuracy 0.98\n",
      "step 19900, training accuracy 0.94\n",
      "test accuracy 0.9685\n"
     ]
    }
   ],
   "source": [
    "\n",
    "#Create a saver object which will save all the variables\n",
    "saver = tf.train.Saver()\n",
    "\n",
    "summary = sess.run(tf.initialize_all_variables())\n",
    "for i in range(20000):\n",
    "  batch = mnist.train.next_batch(50)\n",
    "  if i%100 == 0:\n",
    "    train_accuracy = accuracy.eval(feed_dict={\n",
    "        x:batch[0], y_: batch[1]})\n",
    "    print (\"step %d, training accuracy %g\"%(i, train_accuracy))\n",
    "  train_step.run(feed_dict={x: batch[0], y_: batch[1]})\n",
    "\n",
    "#saver.save(sess, '/Users/bar/Downloads/tfMnist/my_test_model',global_step=1000)\n",
    "\n",
    "print (\"test accuracy %g\"%accuracy.eval(feed_dict={\n",
    "    x: mnist.test.images, y_: mnist.test.labels}))"
   ]
  },
  {
   "cell_type": "code",
   "execution_count": null,
   "metadata": {
    "collapsed": true,
    "extensions": {
     "jupyter_dashboards": {
      "version": 1,
      "views": {
       "grid_default": {
        "hidden": true
       },
       "report_default": {
        "hidden": true
       }
      }
     }
    }
   },
   "outputs": [],
   "source": []
  }
 ],
 "metadata": {
  "extensions": {
   "jupyter_dashboards": {
    "activeView": "grid_default",
    "version": 1,
    "views": {
     "grid_default": {
      "cellMargin": 10,
      "defaultCellHeight": 20,
      "maxColumns": 12,
      "name": "grid",
      "type": "grid"
     },
     "report_default": {
      "name": "report",
      "type": "report"
     }
    }
   }
  },
  "kernelspec": {
   "display_name": "Python 3",
   "language": "python",
   "name": "python3"
  },
  "language_info": {
   "codemirror_mode": {
    "name": "ipython",
    "version": 3
   },
   "file_extension": ".py",
   "mimetype": "text/x-python",
   "name": "python",
   "nbconvert_exporter": "python",
   "pygments_lexer": "ipython3",
   "version": "3.6.3"
  }
 },
 "nbformat": 4,
 "nbformat_minor": 1
}
